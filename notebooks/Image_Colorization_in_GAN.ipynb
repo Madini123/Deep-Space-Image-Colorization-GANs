{
  "cells": [
    {
      "cell_type": "code",
      "execution_count": null,
      "metadata": {
        "colab": {
          "base_uri": "https://localhost:8080/"
        },
        "id": "Ndadwvectkl4",
        "outputId": "3926dc04-8e59-41ff-bc2f-d78a22445bc2"
      },
      "outputs": [],
      "source": [
        "from google.colab import drive\n",
        "drive.mount('/content/drive')"
      ]
    },
    {
      "cell_type": "code",
      "execution_count": null,
      "metadata": {
        "colab": {
          "base_uri": "https://localhost:8080/"
        },
        "id": "UZAJCLRZtwOO",
        "outputId": "014dc565-4979-467b-8d12-407c64cadc4d"
      },
      "outputs": [],
      "source": [
        "!unzip /content/drive/MyDrive/archive.zip"
      ]
    },
    {
      "cell_type": "code",
      "execution_count": 3,
      "metadata": {
        "id": "jkqH8LQZuAi9"
      },
      "outputs": [],
      "source": [
        "from PIL import Image\n",
        "from sklearn.model_selection import train_test_split\n",
        "import tensorflow as tf\n",
        "import numpy as np\n",
        "from keras.utils.vis_utils import plot_model\n",
        "from matplotlib import image\n",
        "from matplotlib import pyplot as plt\n",
        "import os\n",
        "import time\n",
        "import tensorflow as tf\n",
        "from tensorflow import keras\n",
        "tf.config.run_functions_eagerly(True)"
      ]
    },
    {
      "cell_type": "code",
      "execution_count": 4,
      "metadata": {
        "id": "1v_FP0louWcb"
      },
      "outputs": [],
      "source": [
        "DATADIR='/content/galaxydata/train'"
      ]
    },
    {
      "cell_type": "code",
      "execution_count": 5,
      "metadata": {
        "id": "iPOIfhxhuEtt"
      },
      "outputs": [],
      "source": [
        "batch_size = 64"
      ]
    },
    {
      "cell_type": "code",
      "execution_count": 6,
      "metadata": {
        "id": "YItOtlNNuGrD"
      },
      "outputs": [],
      "source": [
        "img_size = 120\n",
        "dataset_split = 2500\n",
        "x = []\n",
        "y = []\n",
        "for image_file in os.listdir( DATADIR )[ 0 : dataset_split ]:\n",
        "    rgb_image = Image.open( os.path.join( DATADIR , image_file ) ).resize( ( img_size , img_size ) )\n",
        "    # Normalize the RGB image array\n",
        "    rgb_img_array = (np.asarray( rgb_image ) ) / 255\n",
        "    gray_image = rgb_image.convert( 'L' )\n",
        "    # Normalize the grayscale image array\n",
        "    gray_img_array = ( np.asarray( gray_image ).reshape( ( img_size , img_size , 1 ) ) ) / 255\n",
        "    # Append both the image arrays\n",
        "    x.append( gray_img_array )\n",
        "    y.append( rgb_img_array )"
      ]
    },
    {
      "cell_type": "code",
      "execution_count": 7,
      "metadata": {
        "id": "WUXewn19uPm6"
      },
      "outputs": [],
      "source": [
        "# Train-test splitting\n",
        "train_x, test_x, train_y, test_y = train_test_split( np.array(x) , np.array(y) , test_size=0.1 )\n",
        "\n",
        "# Construct tf.data.Dataset object\n",
        "dataset = tf.data.Dataset.from_tensor_slices( ( train_x , train_y ) )\n",
        "dataset = dataset.batch( batch_size )"
      ]
    },
    {
      "cell_type": "code",
      "execution_count": 8,
      "metadata": {
        "id": "fMeLpssHukia"
      },
      "outputs": [],
      "source": [
        "def get_generator_model():\n",
        "\n",
        "    inputs = tf.keras.layers.Input( shape=( img_size , img_size , 1 ) )\n",
        "\n",
        "    conv1 = tf.keras.layers.Conv2D( 16 , kernel_size=( 5 , 5 ) , strides=1 )( inputs )\n",
        "    conv1 = tf.keras.layers.LeakyReLU()( conv1 )\n",
        "    conv1 = tf.keras.layers.Conv2D( 32 , kernel_size=( 3 , 3 ) , strides=1)( conv1 )\n",
        "    conv1 = tf.keras.layers.LeakyReLU()( conv1 )\n",
        "    conv1 = tf.keras.layers.Conv2D( 32 , kernel_size=( 3 , 3 ) , strides=1)( conv1 )\n",
        "    conv1 = tf.keras.layers.LeakyReLU()( conv1 )\n",
        "\n",
        "    conv2 = tf.keras.layers.Conv2D( 32 , kernel_size=( 5 , 5 ) , strides=1)( conv1 )\n",
        "    conv2 = tf.keras.layers.LeakyReLU()( conv2 )\n",
        "    conv2 = tf.keras.layers.Conv2D( 64 , kernel_size=( 3 , 3 ) , strides=1 )( conv2 )\n",
        "    conv2 = tf.keras.layers.LeakyReLU()( conv2 )\n",
        "    conv2 = tf.keras.layers.Conv2D( 64 , kernel_size=( 3 , 3 ) , strides=1 )( conv2 )\n",
        "    conv2 = tf.keras.layers.LeakyReLU()( conv2 )\n",
        "\n",
        "    conv3 = tf.keras.layers.Conv2D( 64 , kernel_size=( 5 , 5 ) , strides=1 )( conv2 )\n",
        "    conv3 = tf.keras.layers.LeakyReLU()( conv3 )\n",
        "    conv3 = tf.keras.layers.Conv2D( 128 , kernel_size=( 3 , 3 ) , strides=1 )( conv3 )\n",
        "    conv3 = tf.keras.layers.LeakyReLU()( conv3 )\n",
        "    conv3 = tf.keras.layers.Conv2D( 128 , kernel_size=( 3 , 3 ) , strides=1 )( conv3 )\n",
        "    conv3 = tf.keras.layers.LeakyReLU()( conv3 )\n",
        "\n",
        "    bottleneck = tf.keras.layers.Conv2D( 128 , kernel_size=( 3 , 3 ) , strides=1 , activation='tanh' , padding='same' )( conv3 )\n",
        "\n",
        "    concat_1 = tf.keras.layers.Concatenate()( [ bottleneck , conv3 ] )\n",
        "    conv_up_3 = tf.keras.layers.Conv2DTranspose( 128 , kernel_size=( 3 , 3 ) , strides=1 , activation='relu' )( concat_1 )\n",
        "    conv_up_3 = tf.keras.layers.Conv2DTranspose( 128 , kernel_size=( 3 , 3 ) , strides=1 , activation='relu' )( conv_up_3 )\n",
        "    conv_up_3 = tf.keras.layers.Conv2DTranspose( 64 , kernel_size=( 5 , 5 ) , strides=1 , activation='relu' )( conv_up_3 )\n",
        "\n",
        "    concat_2 = tf.keras.layers.Concatenate()( [ conv_up_3 , conv2 ] )\n",
        "    conv_up_2 = tf.keras.layers.Conv2DTranspose( 64 , kernel_size=( 3 , 3 ) , strides=1 , activation='relu' )( concat_2 )\n",
        "    conv_up_2 = tf.keras.layers.Conv2DTranspose( 64 , kernel_size=( 3 , 3 ) , strides=1 , activation='relu' )( conv_up_2 )\n",
        "    conv_up_2 = tf.keras.layers.Conv2DTranspose( 32 , kernel_size=( 5 , 5 ) , strides=1 , activation='relu' )( conv_up_2 )\n",
        "\n",
        "    concat_3 = tf.keras.layers.Concatenate()( [ conv_up_2 , conv1 ] )\n",
        "    conv_up_1 = tf.keras.layers.Conv2DTranspose( 32 , kernel_size=( 3 , 3 ) , strides=1 , activation='relu')( concat_3 )\n",
        "    conv_up_1 = tf.keras.layers.Conv2DTranspose( 32 , kernel_size=( 3 , 3 ) , strides=1 , activation='relu')( conv_up_1 )\n",
        "    conv_up_1 = tf.keras.layers.Conv2DTranspose( 3 , kernel_size=( 5 , 5 ) , strides=1 , activation='relu')( conv_up_1 )\n",
        "\n",
        "    model = tf.keras.models.Model( inputs , conv_up_1 )\n",
        "    return model"
      ]
    },
    {
      "cell_type": "code",
      "execution_count": 9,
      "metadata": {
        "id": "DlE5rRI5up5b"
      },
      "outputs": [],
      "source": [
        "def get_discriminator_model():\n",
        "    layers = [\n",
        "        tf.keras.layers.Conv2D( 32 , kernel_size=( 7 , 7 ) , strides=1 , activation='relu' , input_shape=( 120 , 120 , 3 ) ),\n",
        "        tf.keras.layers.Conv2D( 32 , kernel_size=( 7, 7 ) , strides=1, activation='relu'  ),\n",
        "        tf.keras.layers.MaxPooling2D(),\n",
        "        tf.keras.layers.Conv2D( 64 , kernel_size=( 5 , 5 ) , strides=1, activation='relu'  ),\n",
        "        tf.keras.layers.Conv2D( 64 , kernel_size=( 5 , 5 ) , strides=1, activation='relu'  ),\n",
        "        tf.keras.layers.MaxPooling2D(),\n",
        "        tf.keras.layers.Conv2D( 128 , kernel_size=( 3 , 3 ) , strides=1, activation='relu'  ),\n",
        "        tf.keras.layers.Conv2D( 128 , kernel_size=( 3 , 3 ) , strides=1, activation='relu'  ),\n",
        "        tf.keras.layers.MaxPooling2D(),\n",
        "        tf.keras.layers.Conv2D( 256 , kernel_size=( 3 , 3 ) , strides=1, activation='relu'  ),\n",
        "        tf.keras.layers.Conv2D( 256 , kernel_size=( 3 , 3 ) , strides=1, activation='relu'  ),\n",
        "        tf.keras.layers.MaxPooling2D(),\n",
        "        tf.keras.layers.Flatten(),\n",
        "        tf.keras.layers.Dense( 512, activation='relu'  )  ,\n",
        "        tf.keras.layers.Dense( 128 , activation='relu' ) ,\n",
        "        tf.keras.layers.Dense( 16 , activation='relu' ) ,\n",
        "        tf.keras.layers.Dense( 1 , activation='sigmoid' ) \n",
        "    ]\n",
        "    model = tf.keras.models.Sequential( layers )\n",
        "    return model"
      ]
    },
    {
      "cell_type": "code",
      "execution_count": 10,
      "metadata": {
        "id": "XNMSNK5RuxjA"
      },
      "outputs": [],
      "source": [
        "cross_entropy = tf.keras.losses.BinaryCrossentropy()\n",
        "mse = tf.keras.losses.MeanSquaredError()\n",
        "\n",
        "def discriminator_loss(real_output, fake_output):\n",
        "    real_loss = cross_entropy(tf.ones_like(real_output) - tf.random.uniform( shape=real_output.shape , maxval=0.1 ) , real_output)\n",
        "    fake_loss = cross_entropy(tf.zeros_like(fake_output) + tf.random.uniform( shape=fake_output.shape , maxval=0.1  ) , fake_output)\n",
        "    total_loss = real_loss + fake_loss\n",
        "    return total_loss\n",
        "\n",
        "def generator_loss(fake_output , real_y):\n",
        "    real_y = tf.cast( real_y , 'float32' )\n",
        "    return mse( fake_output , real_y )\n",
        "\n",
        "generator_optimizer = tf.keras.optimizers.Adam( 0.0005 )\n",
        "discriminator_optimizer = tf.keras.optimizers.Adam( 0.0005 )\n",
        "\n",
        "generator = get_generator_model()\n",
        "discriminator = get_discriminator_model()"
      ]
    },
    {
      "cell_type": "code",
      "execution_count": 11,
      "metadata": {
        "id": "UwDQ51oRu0Rz"
      },
      "outputs": [],
      "source": [
        "@tf.function\n",
        "def train_step( input_x , real_y ):\n",
        "   \n",
        "    with tf.GradientTape() as gen_tape, tf.GradientTape() as disc_tape:\n",
        "        # Generate an image -> G( x )\n",
        "        generated_images = generator( input_x , training=True)\n",
        "        # Probability that the given image is real -> D( x )\n",
        "        real_output = discriminator( real_y, training=True)\n",
        "        # Probability that the given image is the one generated -> D( G( x ) )\n",
        "        generated_output = discriminator(generated_images, training=True)\n",
        "        \n",
        "        # L2 Loss -> || y - G(x) ||^2\n",
        "        gen_loss = generator_loss( generated_images , real_y )\n",
        "        # Log loss for the discriminator\n",
        "        disc_loss = discriminator_loss( real_output, generated_output )\n",
        "        \n",
        "        losses[\"D\"].append(disc_loss.numpy())\n",
        "        losses[\"G\"].append(gen_loss.numpy())\n",
        "    #tf.keras.backend.print_tensor( tf.keras.backend.mean( gen_loss ) )\n",
        "    #tf.keras.backend.print_tensor( gen_loss + disc_loss )\n",
        "    \n",
        "    # Compute the gradients\n",
        "    gradients_of_generator = gen_tape.gradient(gen_loss, generator.trainable_variables)\n",
        "    gradients_of_discriminator = disc_tape.gradient(disc_loss, discriminator.trainable_variables)\n",
        "\n",
        "    # Optimize with Adam\n",
        "    generator_optimizer.apply_gradients(zip(gradients_of_generator, generator.trainable_variables))\n",
        "    discriminator_optimizer.apply_gradients(zip(gradients_of_discriminator, discriminator.trainable_variables))\n",
        "\n",
        "generator.compile(\n",
        "    optimizer=generator_optimizer,\n",
        "    loss=generator_loss,\n",
        "    metrics=['accuracy']\n",
        ")\n",
        "\n",
        "discriminator.compile(\n",
        "    optimizer=discriminator_optimizer,\n",
        "    loss=discriminator_loss,\n",
        "    metrics=['accuracy']\n",
        ")\n"
      ]
    },
    {
      "cell_type": "code",
      "execution_count": null,
      "metadata": {
        "colab": {
          "base_uri": "https://localhost:8080/",
          "height": 1000
        },
        "id": "nowOR765u1ri",
        "outputId": "7b45c78c-e5f9-4e8d-b53d-fcb730bae076"
      },
      "outputs": [],
      "source": [
        "plot_model(generator, to_file='generator.png', show_shapes=True, show_layer_names=True, dpi=66)"
      ]
    },
    {
      "cell_type": "code",
      "execution_count": null,
      "metadata": {
        "id": "unCxb_VIu5q2"
      },
      "outputs": [],
      "source": [
        "num_epochs = 150\n",
        "losses = {\"D\":[], \"G\":[]}\n",
        "for e in range( num_epochs ):\n",
        "    print(\"Running epoch : \", e )\n",
        "    for ( x , y ) in dataset:\n",
        "        # Here ( x , y ) represents a batch from our training dataset.\n",
        "        print( x.shape )\n",
        "        train_step( x , y )"
      ]
    },
    {
      "cell_type": "code",
      "execution_count": null,
      "metadata": {
        "id": "B222t_nzvABD"
      },
      "outputs": [],
      "source": [
        "def plot_loss(losses):\n",
        "    \"\"\"\n",
        "    @losses.keys():\n",
        "        0: loss\n",
        "        1: accuracy\n",
        "    \"\"\"\n",
        "    g_loss = []\n",
        "    d_loss = []\n",
        "\n",
        "    count = 0\n",
        "    for i in losses['D']:\n",
        "      count += 1\n",
        "      if(count == 36):\n",
        "        d_loss.append(i)\n",
        "        count = 0\n",
        "\n",
        "    count = 0   \n",
        "    for i in losses['G']:\n",
        "      count += 1\n",
        "      if(count == 36):\n",
        "        g_loss.append(i)\n",
        "        count = 0\n",
        "\n",
        "    plt.figure(figsize=(10,8))\n",
        "    plt.plot(d_loss, label=\"Discriminator loss\")\n",
        "    plt.plot(g_loss, label=\"Generator loss\")\n",
        "    plt.xlabel('Epochs')\n",
        "    plt.ylabel('Loss')\n",
        "    plt.legend()\n",
        "    plt.show()"
      ]
    },
    {
      "cell_type": "code",
      "execution_count": null,
      "metadata": {
        "id": "JPKSayC0vFdK"
      },
      "outputs": [],
      "source": [
        "y = generator( test_x[0 : ] ).numpy()"
      ]
    },
    {
      "cell_type": "code",
      "execution_count": null,
      "metadata": {
        "id": "W88IoZA3vJvB"
      },
      "outputs": [],
      "source": [
        "for i in range(11, 33, 7):\n",
        "  plt.figure(figsize=(10,10))\n",
        "  or_image = plt.subplot(3,3,1)\n",
        "  or_image.set_title('Grayscale Input', fontsize=16)\n",
        "  plt.imshow( test_x[i].reshape((120,120)) , cmap='gray' )\n",
        "\n",
        "  in_image = plt.subplot(3,3,2)    \n",
        "  image = Image.fromarray( ( y[i] * 255 ).astype( 'uint8' ) ).resize( ( 1024 , 1024 ) )\n",
        "  image = np.asarray( image )\n",
        "  in_image.set_title('Colorized Output', fontsize=16)\n",
        "  plt.imshow( image )\n",
        "\n",
        "  ou_image = plt.subplot(3,3,3)\n",
        "  image = Image.fromarray( ( test_y[i] * 255 ).astype( 'uint8' ) ).resize( ( 1024 , 1024 ) )\n",
        "  ou_image.set_title('Ground Truth', fontsize=16)\n",
        "  plt.imshow( image )\n",
        "\n",
        "  plt.show()"
      ]
    }
  ],
  "metadata": {
    "accelerator": "TPU",
    "colab": {
      "provenance": []
    },
    "gpuClass": "standard",
    "kernelspec": {
      "display_name": "Python 3",
      "name": "python3"
    },
    "language_info": {
      "name": "python"
    }
  },
  "nbformat": 4,
  "nbformat_minor": 0
}
